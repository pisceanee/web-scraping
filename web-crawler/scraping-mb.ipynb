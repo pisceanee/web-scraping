{
 "cells": [
  {
   "cell_type": "code",
   "execution_count": 2,
   "id": "3956324a",
   "metadata": {},
   "outputs": [],
   "source": [
    "import os\n",
    "import time\n",
    "import json\n",
    "import requests\n",
    "import pandas as pd\n",
    "from bs4 import BeautifulSoup"
   ]
  },
  {
   "cell_type": "code",
   "execution_count": 5,
   "id": "9d671ad4",
   "metadata": {},
   "outputs": [
    {
     "data": {
      "text/plain": [
       "True"
      ]
     },
     "execution_count": 5,
     "metadata": {},
     "output_type": "execute_result"
    }
   ],
   "source": [
    "os.path.exists(url_fpath)"
   ]
  },
  {
   "cell_type": "code",
   "execution_count": null,
   "id": "c5c3b68a",
   "metadata": {},
   "outputs": [],
   "source": []
  },
  {
   "cell_type": "code",
   "execution_count": null,
   "id": "b5cd76eb",
   "metadata": {},
   "outputs": [],
   "source": [
    "agent = {\"User-Agent\":'Mozilla/5.0 (Windows NT 6.3; WOW64) AppleWebKit/537.36 (KHTML, like Gecko) Chrome/59.0.3071.115 Safari/537.36'}"
   ]
  },
  {
   "cell_type": "code",
   "execution_count": null,
   "id": "c94c85bf",
   "metadata": {},
   "outputs": [],
   "source": [
    "sitemap_url = 'https://mb.com.ph/wp-sitemap.xml'\n",
    "sitemap = requests.get(sitemap_url, headers=agent)\n",
    "pages = BeautifulSoup(sitemap.content, features='xml').find_all('loc')\n",
    "posts = [page.text for page in pages if 'posts-post' in page.text]"
   ]
  },
  {
   "cell_type": "code",
   "execution_count": null,
   "id": "10b51433",
   "metadata": {},
   "outputs": [],
   "source": [
    "sitemap_url = 'https://mb.com.ph/wp-sitemap.xml'\n",
    "sitemap = requests.get(sitemap_url, headers=agent)"
   ]
  },
  {
   "cell_type": "code",
   "execution_count": null,
   "id": "72c219d1",
   "metadata": {},
   "outputs": [],
   "source": [
    "def find_urls(page_url):\n",
    "    page = requests.get(page_url, headers=agent)\n",
    "    tags = BeautifulSoup(page.content, features='xml').find_all('loc')\n",
    "    urls = [tag.text for tag in tags]\n",
    "    return urls"
   ]
  },
  {
   "cell_type": "code",
   "execution_count": null,
   "id": "30ba0b83",
   "metadata": {},
   "outputs": [],
   "source": [
    "post_urls = [url for url in find_urls(sitemap_url) if 'posts-post' in url]"
   ]
  },
  {
   "cell_type": "code",
   "execution_count": null,
   "id": "264cb1a8",
   "metadata": {},
   "outputs": [],
   "source": [
    "urls = []\n",
    "for idx, post_url in enumerate(post_urls):\n",
    "    print('Scraping urls from %d-th page out of %d pages...' % (idx+1, len(post_urls)), end='\\r')\n",
    "    urls += find_urls(post_url)\n",
    "print('\\nScraping urls: Done')"
   ]
  },
  {
   "cell_type": "code",
   "execution_count": 3,
   "id": "d5b11efe",
   "metadata": {},
   "outputs": [],
   "source": [
    "url_fpath = '../data/news/mb/urls.txt'"
   ]
  },
  {
   "cell_type": "code",
   "execution_count": null,
   "id": "9160bd33",
   "metadata": {},
   "outputs": [],
   "source": [
    "with open(url_fpath, 'w') as f:\n",
    "    f.write('\\n'.join(urls))\n",
    "print('Saving urls at: %s' % url_fpath)"
   ]
  },
  {
   "cell_type": "code",
   "execution_count": null,
   "id": "54a3405c",
   "metadata": {},
   "outputs": [],
   "source": [
    "with open(url_fpath, 'r') as f:\n",
    "    urls = f.read().split('\\n')"
   ]
  },
  {
   "cell_type": "code",
   "execution_count": null,
   "id": "d8dc12bc",
   "metadata": {},
   "outputs": [],
   "source": [
    "def get_content(url):\n",
    "    page = requests.get(url, headers=agent)\n",
    "    soup = BeautifulSoup(page.content, 'html.parser')\n",
    "    content_dict = {'date': soup.find('p', class_='published').text,\n",
    "                    'title': soup.find('h2', class_='title').text,\n",
    "#                     'author': soup.find('em').text,\n",
    "                    'text': soup.find('section', class_='article-content').text}\n",
    "    return content_dict"
   ]
  },
  {
   "cell_type": "code",
   "execution_count": null,
   "id": "d7922d70",
   "metadata": {},
   "outputs": [],
   "source": [
    "for idx, url in enumerate(urls):\n",
    "    print('Scraping contents from %d-th url out of %d urls...' % (idx+1, len(urls)), end='\\r')\n",
    "    try:\n",
    "        content = get_content(url)\n",
    "        fname = '../data/news/mb/%.8d.json' % idx\n",
    "        with open(fname, 'w') as f:\n",
    "            json.dump(content, f, indent=4)\n",
    "    except:\n",
    "        continue\n",
    "    time.sleep(0.1)\n",
    "print('\\nScraping contents: Done')"
   ]
  },
  {
   "cell_type": "code",
   "execution_count": null,
   "id": "7b19a929",
   "metadata": {},
   "outputs": [],
   "source": [
    "last_idx = int(sorted(os.listdir('../data/news/mb/'), reverse=True)[1][:8])"
   ]
  },
  {
   "cell_type": "code",
   "execution_count": 11,
   "id": "fa3742e7",
   "metadata": {
    "scrolled": true
   },
   "outputs": [
    {
     "ename": "NameError",
     "evalue": "name 'last_idx' is not defined",
     "output_type": "error",
     "traceback": [
      "\u001b[0;31m---------------------------------------------------------------------------\u001b[0m",
      "\u001b[0;31mNameError\u001b[0m                                 Traceback (most recent call last)",
      "Input \u001b[0;32mIn [11]\u001b[0m, in \u001b[0;36m<cell line: 1>\u001b[0;34m()\u001b[0m\n\u001b[0;32m----> 1\u001b[0m \u001b[43mlast_idx\u001b[49m \u001b[38;5;129;01min\u001b[39;00m \u001b[38;5;28mglobals\u001b[39m()\n",
      "\u001b[0;31mNameError\u001b[0m: name 'last_idx' is not defined"
     ]
    }
   ],
   "source": [
    "last_idx in globals()"
   ]
  },
  {
   "cell_type": "code",
   "execution_count": null,
   "id": "a57f48b2",
   "metadata": {},
   "outputs": [],
   "source": [
    "for idx, url in enumerate(urls):\n",
    "    if idx <= last_idx:\n",
    "        continue\n",
    "    \n",
    "    print('Scraping contents from %d-th url out of %d urls...' % (idx+1, len(urls)), end='\\r')\n",
    "    try:\n",
    "        content = get_content(url)\n",
    "        fname = '../data/news/mb/%.8d.json' % idx\n",
    "        with open(fname, 'w') as f:\n",
    "            json.dump(content, f, indent=4)\n",
    "    except:\n",
    "        continue\n",
    "    \n",
    "    time.sleep(0.1)\n",
    "print('\\nScraping contents: Done')"
   ]
  },
  {
   "cell_type": "code",
   "execution_count": 19,
   "id": "0cc1908c",
   "metadata": {},
   "outputs": [
    {
     "data": {
      "text/plain": [
       "157765"
      ]
     },
     "execution_count": 19,
     "metadata": {},
     "output_type": "execute_result"
    }
   ],
   "source": [
    "last_idx + 1"
   ]
  },
  {
   "cell_type": "code",
   "execution_count": 20,
   "id": "247b1413",
   "metadata": {},
   "outputs": [
    {
     "name": "stdout",
     "output_type": "stream",
     "text": [
      "List of URLs already exists. Scraping continues from 157765-th page.\n"
     ]
    }
   ],
   "source": [
    "print('List of URLs already exists. Scraping continues from %d-th page.' % (last_idx + 1))"
   ]
  },
  {
   "cell_type": "code",
   "execution_count": 12,
   "id": "d2da8c6c",
   "metadata": {},
   "outputs": [
    {
     "ename": "TypeError",
     "evalue": "can only concatenate str (not \"int\") to str",
     "output_type": "error",
     "traceback": [
      "\u001b[0;31m---------------------------------------------------------------------------\u001b[0m",
      "\u001b[0;31mTypeError\u001b[0m                                 Traceback (most recent call last)",
      "Input \u001b[0;32mIn [12]\u001b[0m, in \u001b[0;36m<cell line: 35>\u001b[0;34m()\u001b[0m\n\u001b[1;32m     37\u001b[0m         urls \u001b[38;5;241m=\u001b[39m f\u001b[38;5;241m.\u001b[39mread()\u001b[38;5;241m.\u001b[39msplit(\u001b[38;5;124m'\u001b[39m\u001b[38;5;130;01m\\n\u001b[39;00m\u001b[38;5;124m'\u001b[39m)\n\u001b[1;32m     38\u001b[0m     last_idx \u001b[38;5;241m=\u001b[39m \u001b[38;5;28mint\u001b[39m(\u001b[38;5;28msorted\u001b[39m(os\u001b[38;5;241m.\u001b[39mlistdir(\u001b[38;5;124m'\u001b[39m\u001b[38;5;124m../data/news/mb/\u001b[39m\u001b[38;5;124m'\u001b[39m), reverse\u001b[38;5;241m=\u001b[39m\u001b[38;5;28;01mTrue\u001b[39;00m)[\u001b[38;5;241m1\u001b[39m][:\u001b[38;5;241m8\u001b[39m])\n\u001b[0;32m---> 39\u001b[0m     \u001b[38;5;28mprint\u001b[39m(\u001b[38;5;124;43m'\u001b[39;49m\u001b[38;5;124;43mList of URLs already exists. Scraping continues from \u001b[39;49m\u001b[38;5;132;43;01m%d\u001b[39;49;00m\u001b[38;5;124;43m-th page.\u001b[39;49m\u001b[38;5;124;43m'\u001b[39;49m\u001b[43m \u001b[49m\u001b[38;5;241;43m%\u001b[39;49m\u001b[43m \u001b[49m\u001b[43mlast_idx\u001b[49m\u001b[43m \u001b[49m\u001b[38;5;241;43m+\u001b[39;49m\u001b[43m \u001b[49m\u001b[38;5;241;43m1\u001b[39;49m)\n\u001b[1;32m     40\u001b[0m \u001b[38;5;28;01melse\u001b[39;00m:\n\u001b[1;32m     41\u001b[0m     urls \u001b[38;5;241m=\u001b[39m []\n",
      "\u001b[0;31mTypeError\u001b[0m: can only concatenate str (not \"int\") to str"
     ]
    }
   ],
   "source": [
    "#!/usr/bin/env python\n",
    "# coding: utf-8\n",
    "\n",
    "import os\n",
    "import time\n",
    "import json\n",
    "import requests\n",
    "import pandas as pd\n",
    "from bs4 import BeautifulSoup\n",
    "\n",
    "def find_urls(page_url):\n",
    "    page = requests.get(page_url, headers=agent)\n",
    "    tags = BeautifulSoup(page.content, features='xml').find_all('loc')\n",
    "    urls = [tag.text for tag in tags]\n",
    "    return urls\n",
    "\n",
    "def get_content(url):\n",
    "    page = requests.get(url, headers=agent)\n",
    "    soup = BeautifulSoup(page.content, 'html.parser')\n",
    "    content_dict = {'date': soup.find('p', class_='published').text,\n",
    "                    'title': soup.find('h2', class_='title').text,\n",
    "#                     'author': soup.find('em').text,\n",
    "                    'text': soup.find('section', class_='article-content').text}\n",
    "    return content_dict\n",
    "\n",
    "url_fpath = '../data/news/mb/urls.txt'\n",
    "news_fdir = '../data/news/mb/'\n",
    "\n",
    "agent = {\"User-Agent\":'Mozilla/5.0 (Windows NT 6.3; WOW64) AppleWebKit/537.36 (KHTML, like Gecko) Chrome/59.0.3071.115 Safari/537.36'}\n",
    "sitemap_url = 'https://mb.com.ph/wp-sitemap.xml'\n",
    "\n",
    "post_urls = [url for url in find_urls(sitemap_url) if 'posts-post' in url]\n",
    "\n",
    "# Scraping urls from the sitemap\n",
    "if os.path.exists(url_fpath):\n",
    "    with open(url_fpath, 'r') as f:\n",
    "        urls = f.read().split('\\n')\n",
    "    last_idx = int(sorted(os.listdir('../data/news/mb/'), reverse=True)[1][:8])\n",
    "    print('List of URLs already exists. Scraping continues from %d-th page.' % (last_idx + 1))\n",
    "else:\n",
    "    urls = []\n",
    "    for idx, post_url in enumerate(post_urls):\n",
    "        print('Scraping urls from %d-th page out of %d pages...' % (idx+1, len(post_urls)), end='\\r')\n",
    "        urls += find_urls(post_url)\n",
    "    print('\\nScraping %d urls: Done' % len(urls))\n",
    "\n",
    "    with open(url_fpath, 'w') as f:\n",
    "        f.write('\\n'.join(urls))\n",
    "    print('Saving urls at: %s' % url_fpath)\n",
    "\n",
    "    last_idx = -1\n",
    "\n",
    "# Scraping contents from the urls\n",
    "for idx, url in enumerate(urls):\n",
    "    if idx <= last_idx:\n",
    "        continue\n",
    "    \n",
    "    print('Scraping contents from %d-th url out of %d urls...' % (idx+1, len(urls)), end='\\r')\n",
    "    try:\n",
    "        content = get_content(url)\n",
    "        fname = '../data/news/mb/%.8d.json' % idx\n",
    "        with open(fname, 'w') as f:\n",
    "            json.dump(content, f, indent=4)\n",
    "    except:\n",
    "        continue\n",
    "    \n",
    "    time.sleep(0.1)\n",
    "print('\\nScraping contents: Done')\n"
   ]
  }
 ],
 "metadata": {
  "kernelspec": {
   "display_name": "Python 3 (ipykernel)",
   "language": "python",
   "name": "python3"
  },
  "language_info": {
   "codemirror_mode": {
    "name": "ipython",
    "version": 3
   },
   "file_extension": ".py",
   "mimetype": "text/x-python",
   "name": "python",
   "nbconvert_exporter": "python",
   "pygments_lexer": "ipython3",
   "version": "3.8.13"
  }
 },
 "nbformat": 4,
 "nbformat_minor": 5
}
