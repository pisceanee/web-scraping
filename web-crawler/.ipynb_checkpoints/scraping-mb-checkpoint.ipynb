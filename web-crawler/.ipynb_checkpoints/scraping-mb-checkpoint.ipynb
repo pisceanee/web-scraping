{
 "cells": [
  {
   "cell_type": "code",
   "execution_count": 1,
   "id": "3956324a",
   "metadata": {},
   "outputs": [],
   "source": [
    "import time\n",
    "import json\n",
    "import requests\n",
    "import pandas as pd\n",
    "from bs4 import BeautifulSoup"
   ]
  },
  {
   "cell_type": "code",
   "execution_count": 2,
   "id": "b5cd76eb",
   "metadata": {},
   "outputs": [],
   "source": [
    "agent = {\"User-Agent\":'Mozilla/5.0 (Windows NT 6.3; WOW64) AppleWebKit/537.36 (KHTML, like Gecko) Chrome/59.0.3071.115 Safari/537.36'}"
   ]
  },
  {
   "cell_type": "code",
   "execution_count": 3,
   "id": "c94c85bf",
   "metadata": {},
   "outputs": [],
   "source": [
    "sitemap_url = 'https://mb.com.ph/wp-sitemap.xml'\n",
    "sitemap = requests.get(sitemap_url, headers=agent)\n",
    "pages = BeautifulSoup(sitemap.content, features='xml').find_all('loc')\n",
    "posts = [page.text for page in pages if 'posts-post' in page.text]"
   ]
  },
  {
   "cell_type": "code",
   "execution_count": 4,
   "id": "10b51433",
   "metadata": {},
   "outputs": [],
   "source": [
    "sitemap_url = 'https://mb.com.ph/wp-sitemap.xml'\n",
    "sitemap = requests.get(sitemap_url, headers=agent)"
   ]
  },
  {
   "cell_type": "code",
   "execution_count": 5,
   "id": "72c219d1",
   "metadata": {},
   "outputs": [],
   "source": [
    "def find_urls(page_url):\n",
    "    page = requests.get(page_url, headers=agent)\n",
    "    tags = BeautifulSoup(page.content, features='xml').find_all('loc')\n",
    "    urls = [tag.text for tag in tags]\n",
    "    return urls"
   ]
  },
  {
   "cell_type": "code",
   "execution_count": 6,
   "id": "30ba0b83",
   "metadata": {},
   "outputs": [],
   "source": [
    "post_urls = [url for url in find_urls(sitemap_url) if 'posts-post' in url]"
   ]
  },
  {
   "cell_type": "code",
   "execution_count": 7,
   "id": "9160bd33",
   "metadata": {},
   "outputs": [
    {
     "name": "stdout",
     "output_type": "stream",
     "text": [
      "Scraping urls from 156-th page out of 156 pages...\n",
      "Scraping urls: Done\n",
      "Saving urls at: ../data/urls.txt\n"
     ]
    }
   ],
   "source": [
    "urls = []\n",
    "for idx, post_url in enumerate(post_urls):\n",
    "    print('Scraping urls from %d-th page out of %d pages...' % (idx+1, len(post_urls)), end='\\r')\n",
    "    urls += find_urls(post_url)\n",
    "print('\\nScraping urls: Done')\n",
    "\n",
    "url_fpath = '../data/urls.txt'\n",
    "with open(url_fpath, 'w') as f:\n",
    "    f.write('\\n'.join(urls))\n",
    "print('Saving urls at: %s' % url_fpath)"
   ]
  },
  {
   "cell_type": "code",
   "execution_count": 8,
   "id": "d8dc12bc",
   "metadata": {},
   "outputs": [],
   "source": [
    "def get_content(url):\n",
    "    page = requests.get(url, headers=agent)\n",
    "    soup = BeautifulSoup(page.content, 'html.parser')\n",
    "    content_dict = {'date': soup.find('p', class_='published').text,\n",
    "                    'title': soup.find('h2', class_='title').text,\n",
    "#                     'author': soup.find('em').text,\n",
    "                    'text': soup.find('section', class_='article-content').text}\n",
    "    return content_dict"
   ]
  },
  {
   "cell_type": "code",
   "execution_count": null,
   "id": "7585603c",
   "metadata": {},
   "outputs": [
    {
     "name": "stdout",
     "output_type": "stream",
     "text": [
      "Scraping contents from 779-th url out of 311676 urls...\r"
     ]
    }
   ],
   "source": [
    "for idx, url in enumerate(urls):\n",
    "    print('Scraping contents from %d-th url out of %d urls...' % (idx+1, len(urls)), end='\\r')\n",
    "    try:\n",
    "        content = get_content(url)\n",
    "        fname = '../data/news/mb/%.8d.json' % idx\n",
    "        with open(fname, 'w') as f:\n",
    "            json.dump(content, f, indent=4)\n",
    "    except:\n",
    "        continue\n",
    "    time.sleep(0.1)\n",
    "print('\\nScraping contents: Done')"
   ]
  },
  {
   "cell_type": "code",
   "execution_count": null,
   "id": "7b19a929",
   "metadata": {},
   "outputs": [],
   "source": []
  }
 ],
 "metadata": {
  "kernelspec": {
   "display_name": "Python 3 (ipykernel)",
   "language": "python",
   "name": "python3"
  },
  "language_info": {
   "codemirror_mode": {
    "name": "ipython",
    "version": 3
   },
   "file_extension": ".py",
   "mimetype": "text/x-python",
   "name": "python",
   "nbconvert_exporter": "python",
   "pygments_lexer": "ipython3",
   "version": "3.9.12"
  }
 },
 "nbformat": 4,
 "nbformat_minor": 5
}
