{
 "cells": [
  {
   "cell_type": "code",
   "execution_count": 1,
   "id": "a9aab03b",
   "metadata": {},
   "outputs": [],
   "source": [
    "import os\n",
    "import json\n",
    "import pandas as pd\n",
    "\n",
    "from datetime import datetime"
   ]
  },
  {
   "cell_type": "code",
   "execution_count": 66,
   "id": "ebeeac4f",
   "metadata": {},
   "outputs": [],
   "source": [
    "fdir = '../data/news/st/'\n",
    "fnames = os.listdir(fdir)\n",
    "xlsx_fdir = '../data/processed/news/'"
   ]
  },
  {
   "cell_type": "code",
   "execution_count": null,
   "id": "d93adb1f",
   "metadata": {},
   "outputs": [],
   "source": [
    "datetime_format = '%B %d, %Y at %I:%M %p'"
   ]
  },
  {
   "cell_type": "code",
   "execution_count": null,
   "id": "31dc0906",
   "metadata": {},
   "outputs": [],
   "source": [
    "date_list = []\n",
    "title_list = []\n",
    "text_list = []\n",
    "for idx, fname in enumerate(fnames):\n",
    "    if fname == 'urls.txt':\n",
    "        continue\n",
    "    print('%d-th news out of %d' % (idx + 1, len(fnames) - 1), end='\\r')\n",
    "    fpath = fdir + fname\n",
    "    with open(fpath, 'r') as file:\n",
    "        content = json.load(file)\n",
    "    date = datetime.strptime(content['date'].strip(), datetime_format)\n",
    "    title = content['title'].strip()\n",
    "    text = content['text'].strip()\n",
    "    \n",
    "    date_list.append(date)\n",
    "    title_list.append(title)\n",
    "    text_list.append(text)\n",
    "    \n",
    "df = pd.DataFrame({'date': date_list, 'title': title_list, 'text': text_list})"
   ]
  },
  {
   "cell_type": "code",
   "execution_count": 68,
   "id": "3a1d5b3c",
   "metadata": {},
   "outputs": [],
   "source": [
    "if not os.path.exists(xlsx_fdir):\n",
    "    os.makedirs(xlsx_fdir)\n",
    "df.to_excel(xlsx_fdir + 'st.xlsx')"
   ]
  }
 ],
 "metadata": {
  "kernelspec": {
   "display_name": "Python 3 (ipykernel)",
   "language": "python",
   "name": "python3"
  },
  "language_info": {
   "codemirror_mode": {
    "name": "ipython",
    "version": 3
   },
   "file_extension": ".py",
   "mimetype": "text/x-python",
   "name": "python",
   "nbconvert_exporter": "python",
   "pygments_lexer": "ipython3",
   "version": "3.8.13"
  }
 },
 "nbformat": 4,
 "nbformat_minor": 5
}
