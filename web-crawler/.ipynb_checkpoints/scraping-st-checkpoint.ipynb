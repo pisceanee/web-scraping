{
 "cells": [
  {
   "cell_type": "code",
   "execution_count": 3,
   "id": "3956324a",
   "metadata": {},
   "outputs": [],
   "source": [
    "import time\n",
    "import json\n",
    "import requests\n",
    "import pandas as pd\n",
    "from bs4 import BeautifulSoup"
   ]
  },
  {
   "cell_type": "code",
   "execution_count": 4,
   "id": "b5cd76eb",
   "metadata": {},
   "outputs": [],
   "source": [
    "agent = {\"User-Agent\":'Mozilla/5.0 (Windows NT 6.3; WOW64) AppleWebKit/537.36 (KHTML, like Gecko) Chrome/59.0.3071.115 Safari/537.36'}"
   ]
  },
  {
   "cell_type": "code",
   "execution_count": 5,
   "id": "c94c85bf",
   "metadata": {},
   "outputs": [],
   "source": [
    "sitemap_url = 'https://www.straitstimes.com/sitemap.xml'"
   ]
  },
  {
   "cell_type": "code",
   "execution_count": 6,
   "id": "72c219d1",
   "metadata": {},
   "outputs": [],
   "source": [
    "def find_urls(page_url):\n",
    "    page = requests.get(page_url, headers=agent)\n",
    "    tags = BeautifulSoup(page.content, features='xml').find_all('loc')\n",
    "    urls = [tag.text for tag in tags]\n",
    "    return urls"
   ]
  },
  {
   "cell_type": "code",
   "execution_count": 7,
   "id": "30ba0b83",
   "metadata": {},
   "outputs": [],
   "source": [
    "post_urls = [url for url in find_urls(sitemap_url)]"
   ]
  },
  {
   "cell_type": "code",
   "execution_count": 9,
   "id": "9160bd33",
   "metadata": {},
   "outputs": [
    {
     "name": "stdout",
     "output_type": "stream",
     "text": [
      "Scraping urls from 35-th page out of 35 pages...\n",
      "Scraping urls: Done\n",
      "Saving urls at: ../data/news/st/urls.txt\n"
     ]
    }
   ],
   "source": [
    "urls = []\n",
    "for idx, post_url in enumerate(post_urls):\n",
    "    print('Scraping urls from %d-th page out of %d pages...' % (idx+1, len(post_urls)), end='\\r')\n",
    "    urls += find_urls(post_url)\n",
    "print('\\nScraping urls: Done')\n",
    "\n",
    "url_fpath = '../data/news/st/urls.txt'\n",
    "with open(url_fpath, 'w') as f:\n",
    "    f.write('\\n'.join(urls[1:])) # first url is the main page\n",
    "print('Saving urls at: %s' % url_fpath)"
   ]
  },
  {
   "cell_type": "code",
   "execution_count": 15,
   "id": "78928f94",
   "metadata": {},
   "outputs": [],
   "source": [
    "url = urls[1]"
   ]
  },
  {
   "cell_type": "code",
   "execution_count": 20,
   "id": "7e2b9361",
   "metadata": {},
   "outputs": [],
   "source": [
    "page = requests.get(url, headers=agent)"
   ]
  },
  {
   "cell_type": "code",
   "execution_count": 21,
   "id": "5e1d8dab",
   "metadata": {},
   "outputs": [],
   "source": [
    "soup = BeautifulSoup(page.content, 'html.parser')"
   ]
  },
  {
   "cell_type": "code",
   "execution_count": 22,
   "id": "082cb317",
   "metadata": {},
   "outputs": [
    {
     "data": {
      "text/plain": [
       "<div id=\"MyPageOverlay\"></div>"
      ]
     },
     "execution_count": 22,
     "metadata": {},
     "output_type": "execute_result"
    }
   ],
   "source": [
    "soup.find('div')"
   ]
  },
  {
   "cell_type": "code",
   "execution_count": 13,
   "id": "7f3fb10c",
   "metadata": {},
   "outputs": [
    {
     "ename": "AttributeError",
     "evalue": "'NoneType' object has no attribute 'text'",
     "output_type": "error",
     "traceback": [
      "\u001b[0;31m---------------------------------------------------------------------------\u001b[0m",
      "\u001b[0;31mAttributeError\u001b[0m                            Traceback (most recent call last)",
      "Input \u001b[0;32mIn [13]\u001b[0m, in \u001b[0;36m<cell line: 1>\u001b[0;34m()\u001b[0m\n\u001b[0;32m----> 1\u001b[0m \u001b[43mget_content\u001b[49m\u001b[43m(\u001b[49m\u001b[43murls\u001b[49m\u001b[43m[\u001b[49m\u001b[38;5;241;43m1\u001b[39;49m\u001b[43m]\u001b[49m\u001b[43m)\u001b[49m\n",
      "Input \u001b[0;32mIn [12]\u001b[0m, in \u001b[0;36mget_content\u001b[0;34m(url)\u001b[0m\n\u001b[1;32m      2\u001b[0m     page \u001b[38;5;241m=\u001b[39m requests\u001b[38;5;241m.\u001b[39mget(url, headers\u001b[38;5;241m=\u001b[39magent)\n\u001b[1;32m      3\u001b[0m     soup \u001b[38;5;241m=\u001b[39m BeautifulSoup(page\u001b[38;5;241m.\u001b[39mcontent, \u001b[38;5;124m'\u001b[39m\u001b[38;5;124mhtml.parser\u001b[39m\u001b[38;5;124m'\u001b[39m)\n\u001b[0;32m----> 4\u001b[0m     content_dict \u001b[38;5;241m=\u001b[39m {\u001b[38;5;124m'\u001b[39m\u001b[38;5;124mdate\u001b[39m\u001b[38;5;124m'\u001b[39m: \u001b[43msoup\u001b[49m\u001b[38;5;241;43m.\u001b[39;49m\u001b[43mfind\u001b[49m\u001b[43m(\u001b[49m\u001b[38;5;124;43m'\u001b[39;49m\u001b[38;5;124;43mdiv\u001b[39;49m\u001b[38;5;124;43m'\u001b[39;49m\u001b[43m,\u001b[49m\u001b[43m \u001b[49m\u001b[43mclass_\u001b[49m\u001b[38;5;241;43m=\u001b[39;49m\u001b[38;5;124;43m'\u001b[39;49m\u001b[38;5;124;43mstory_postdate\u001b[39;49m\u001b[38;5;124;43m'\u001b[39;49m\u001b[43m)\u001b[49m\u001b[38;5;241;43m.\u001b[39;49m\u001b[43mtext\u001b[49m,\n\u001b[1;32m      5\u001b[0m                     \u001b[38;5;124m'\u001b[39m\u001b[38;5;124mtitle\u001b[39m\u001b[38;5;124m'\u001b[39m: soup\u001b[38;5;241m.\u001b[39mfind(\u001b[38;5;124m'\u001b[39m\u001b[38;5;124mh1\u001b[39m\u001b[38;5;124m'\u001b[39m, class_\u001b[38;5;241m=\u001b[39m\u001b[38;5;124m'\u001b[39m\u001b[38;5;124mheadline node-title\u001b[39m\u001b[38;5;124m'\u001b[39m)\u001b[38;5;241m.\u001b[39mtext,\n\u001b[1;32m      6\u001b[0m \u001b[38;5;66;03m#                     'author': soup.find('em').text,\u001b[39;00m\n\u001b[1;32m      7\u001b[0m                     \u001b[38;5;124m'\u001b[39m\u001b[38;5;124mtext\u001b[39m\u001b[38;5;124m'\u001b[39m: soup\u001b[38;5;241m.\u001b[39mfind(\u001b[38;5;124m'\u001b[39m\u001b[38;5;124mdiv\u001b[39m\u001b[38;5;124m'\u001b[39m, class_\u001b[38;5;241m=\u001b[39m\u001b[38;5;124m'\u001b[39m\u001b[38;5;124mds-wrapper article-content-rawhtml\u001b[39m\u001b[38;5;124m'\u001b[39m)\u001b[38;5;241m.\u001b[39mtext}\n\u001b[1;32m      8\u001b[0m     \u001b[38;5;28;01mreturn\u001b[39;00m content_dict\n",
      "\u001b[0;31mAttributeError\u001b[0m: 'NoneType' object has no attribute 'text'"
     ]
    }
   ],
   "source": [
    "get_content(urls[1])"
   ]
  },
  {
   "cell_type": "code",
   "execution_count": 12,
   "id": "d8dc12bc",
   "metadata": {},
   "outputs": [],
   "source": [
    "def get_content(url):\n",
    "    page = requests.get(url, headers=agent)\n",
    "    soup = BeautifulSoup(page.content, 'html.parser')\n",
    "    content_dict = {'date': soup.find('div', class_='story_postdate').text,\n",
    "                    'title': soup.find('h1', class_='headline node-title').text,\n",
    "#                     'author': soup.find('em').text,\n",
    "                    'text': soup.find('div', class_='ds-wrapper article-content-rawhtml').text}\n",
    "    return content_dict"
   ]
  },
  {
   "cell_type": "code",
   "execution_count": 2,
   "id": "a6f28a1f",
   "metadata": {},
   "outputs": [
    {
     "ename": "NameError",
     "evalue": "name 'url' is not defined",
     "output_type": "error",
     "traceback": [
      "\u001b[0;31m---------------------------------------------------------------------------\u001b[0m",
      "\u001b[0;31mNameError\u001b[0m                                 Traceback (most recent call last)",
      "Input \u001b[0;32mIn [2]\u001b[0m, in \u001b[0;36m<cell line: 1>\u001b[0;34m()\u001b[0m\n\u001b[0;32m----> 1\u001b[0m \u001b[43murl\u001b[49m\n",
      "\u001b[0;31mNameError\u001b[0m: name 'url' is not defined"
     ]
    }
   ],
   "source": [
    "url"
   ]
  },
  {
   "cell_type": "code",
   "execution_count": null,
   "id": "4e670df2",
   "metadata": {},
   "outputs": [],
   "source": [
    "for idx, url in enumerate(urls):\n",
    "    print('Scraping contents from %d-th url out of %d urls...' % (idx+1, len(urls)), end='\\r')\n",
    "    try:\n",
    "        content = get_content(url)\n",
    "        fname = '../data/news/st/%.8d.json' % idx\n",
    "        with open(fname, 'w') as f:\n",
    "            json.dump(content, f, indent=4)\n",
    "    except:\n",
    "        continue\n",
    "    time.sleep(0.1)\n",
    "print('\\nScraping contents: Done')"
   ]
  },
  {
   "cell_type": "code",
   "execution_count": null,
   "id": "7b19a929",
   "metadata": {},
   "outputs": [],
   "source": []
  }
 ],
 "metadata": {
  "kernelspec": {
   "display_name": "Python 3 (ipykernel)",
   "language": "python",
   "name": "python3"
  },
  "language_info": {
   "codemirror_mode": {
    "name": "ipython",
    "version": 3
   },
   "file_extension": ".py",
   "mimetype": "text/x-python",
   "name": "python",
   "nbconvert_exporter": "python",
   "pygments_lexer": "ipython3",
   "version": "3.9.12"
  }
 },
 "nbformat": 4,
 "nbformat_minor": 5
}
