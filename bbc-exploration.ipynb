{
 "cells": [
  {
   "cell_type": "code",
   "execution_count": 1,
   "id": "58d7ff33",
   "metadata": {},
   "outputs": [],
   "source": [
    "import copy\n",
    "import pandas as pd"
   ]
  },
  {
   "cell_type": "code",
   "execution_count": 2,
   "id": "d9a8a35d",
   "metadata": {},
   "outputs": [
    {
     "data": {
      "text/html": [
       "<div>\n",
       "<style scoped>\n",
       "    .dataframe tbody tr th:only-of-type {\n",
       "        vertical-align: middle;\n",
       "    }\n",
       "\n",
       "    .dataframe tbody tr th {\n",
       "        vertical-align: top;\n",
       "    }\n",
       "\n",
       "    .dataframe thead th {\n",
       "        text-align: right;\n",
       "    }\n",
       "</style>\n",
       "<table border=\"1\" class=\"dataframe\">\n",
       "  <thead>\n",
       "    <tr style=\"text-align: right;\">\n",
       "      <th></th>\n",
       "      <th>date</th>\n",
       "      <th>title</th>\n",
       "      <th>text</th>\n",
       "    </tr>\n",
       "  </thead>\n",
       "  <tbody>\n",
       "    <tr>\n",
       "      <th>0</th>\n",
       "      <td>2015-02-16</td>\n",
       "      <td>Greek islanders' hopes for future under new go...</td>\n",
       "      <td></td>\n",
       "    </tr>\n",
       "    <tr>\n",
       "      <th>1</th>\n",
       "      <td>2014-11-25</td>\n",
       "      <td>Hong Kong police arrest activists after Mong K...</td>\n",
       "      <td>Police in Hong Kong have detained at least 10 ...</td>\n",
       "    </tr>\n",
       "    <tr>\n",
       "      <th>2</th>\n",
       "      <td>2018-03-14</td>\n",
       "      <td>John Pordage death: Mum appeals to 'coward's' ...</td>\n",
       "      <td>The mother of a murdered man has called for th...</td>\n",
       "    </tr>\n",
       "    <tr>\n",
       "      <th>3</th>\n",
       "      <td>2013-02-03</td>\n",
       "      <td>Black Isle: 'Crofting' vital to economy</td>\n",
       "      <td>Like Tintin, I've been for an adventure on the...</td>\n",
       "    </tr>\n",
       "    <tr>\n",
       "      <th>4</th>\n",
       "      <td>2011-09-12</td>\n",
       "      <td>Warren Goring 'strangled wife after TV shoppin...</td>\n",
       "      <td>A man strangled his wife after a row about deb...</td>\n",
       "    </tr>\n",
       "    <tr>\n",
       "      <th>...</th>\n",
       "      <td>...</td>\n",
       "      <td>...</td>\n",
       "      <td>...</td>\n",
       "    </tr>\n",
       "    <tr>\n",
       "      <th>1305421</th>\n",
       "      <td>2018-05-01</td>\n",
       "      <td>Evil Pat Phelan up for four British Soap Awards</td>\n",
       "      <td>Coronation Street's evil Pat Phelan is leading...</td>\n",
       "    </tr>\n",
       "    <tr>\n",
       "      <th>1305422</th>\n",
       "      <td>2013-02-01</td>\n",
       "      <td>Sea Launch Zenit rocket with Intelsat spacecra...</td>\n",
       "      <td>A Ukrainian-Russian rocket carrying a US-made ...</td>\n",
       "    </tr>\n",
       "    <tr>\n",
       "      <th>1305423</th>\n",
       "      <td>2020-08-24</td>\n",
       "      <td>'Urban rooftop farm'</td>\n",
       "      <td></td>\n",
       "    </tr>\n",
       "    <tr>\n",
       "      <th>1305424</th>\n",
       "      <td>2011-02-08</td>\n",
       "      <td>Blur's Alex James guarded on new studio recording</td>\n",
       "      <td>Blur's Alex James has remained guarded on whet...</td>\n",
       "    </tr>\n",
       "    <tr>\n",
       "      <th>1305425</th>\n",
       "      <td>2013-05-21</td>\n",
       "      <td>Bahrain digs unveil one of oldest civilisations</td>\n",
       "      <td>Excavations at an archaeological site in Bahra...</td>\n",
       "    </tr>\n",
       "  </tbody>\n",
       "</table>\n",
       "<p>1305426 rows × 3 columns</p>\n",
       "</div>"
      ],
      "text/plain": [
       "              date                                              title  \\\n",
       "0       2015-02-16  Greek islanders' hopes for future under new go...   \n",
       "1       2014-11-25  Hong Kong police arrest activists after Mong K...   \n",
       "2       2018-03-14  John Pordage death: Mum appeals to 'coward's' ...   \n",
       "3       2013-02-03            Black Isle: 'Crofting' vital to economy   \n",
       "4       2011-09-12  Warren Goring 'strangled wife after TV shoppin...   \n",
       "...            ...                                                ...   \n",
       "1305421 2018-05-01    Evil Pat Phelan up for four British Soap Awards   \n",
       "1305422 2013-02-01  Sea Launch Zenit rocket with Intelsat spacecra...   \n",
       "1305423 2020-08-24                               'Urban rooftop farm'   \n",
       "1305424 2011-02-08  Blur's Alex James guarded on new studio recording   \n",
       "1305425 2013-05-21    Bahrain digs unveil one of oldest civilisations   \n",
       "\n",
       "                                                      text  \n",
       "0                                                           \n",
       "1        Police in Hong Kong have detained at least 10 ...  \n",
       "2        The mother of a murdered man has called for th...  \n",
       "3        Like Tintin, I've been for an adventure on the...  \n",
       "4        A man strangled his wife after a row about deb...  \n",
       "...                                                    ...  \n",
       "1305421  Coronation Street's evil Pat Phelan is leading...  \n",
       "1305422  A Ukrainian-Russian rocket carrying a US-made ...  \n",
       "1305423                                                     \n",
       "1305424  Blur's Alex James has remained guarded on whet...  \n",
       "1305425  Excavations at an archaeological site in Bahra...  \n",
       "\n",
       "[1305426 rows x 3 columns]"
      ]
     },
     "execution_count": 2,
     "metadata": {},
     "output_type": "execute_result"
    }
   ],
   "source": [
    "news_fpath = '../../data/processed/news/bbc.json'\n",
    "df_news = pd.read_json(news_fpath)\n",
    "df_news"
   ]
  },
  {
   "cell_type": "code",
   "execution_count": 3,
   "id": "ef6f8bce",
   "metadata": {},
   "outputs": [],
   "source": [
    "df_news_processed = copy.deepcopy(df_news)"
   ]
  },
  {
   "cell_type": "code",
   "execution_count": 4,
   "id": "84d7a7bf",
   "metadata": {},
   "outputs": [
    {
     "data": {
      "text/html": [
       "<div>\n",
       "<style scoped>\n",
       "    .dataframe tbody tr th:only-of-type {\n",
       "        vertical-align: middle;\n",
       "    }\n",
       "\n",
       "    .dataframe tbody tr th {\n",
       "        vertical-align: top;\n",
       "    }\n",
       "\n",
       "    .dataframe thead th {\n",
       "        text-align: right;\n",
       "    }\n",
       "</style>\n",
       "<table border=\"1\" class=\"dataframe\">\n",
       "  <thead>\n",
       "    <tr style=\"text-align: right;\">\n",
       "      <th></th>\n",
       "      <th>date</th>\n",
       "      <th>title</th>\n",
       "      <th>text</th>\n",
       "    </tr>\n",
       "  </thead>\n",
       "  <tbody>\n",
       "    <tr>\n",
       "      <th>0</th>\n",
       "      <td>2011-01-01</td>\n",
       "      <td>Australia floods: Your stories</td>\n",
       "      <td>A senior official in Australia has described t...</td>\n",
       "    </tr>\n",
       "    <tr>\n",
       "      <th>1</th>\n",
       "      <td>2011-01-01</td>\n",
       "      <td>Southampton hospital warns over influx of flu ...</td>\n",
       "      <td>Health chiefs in Hampshire have revealed they ...</td>\n",
       "    </tr>\n",
       "    <tr>\n",
       "      <th>2</th>\n",
       "      <td>2011-01-01</td>\n",
       "      <td>Discovery cancels Michael Jackson autopsy TV show</td>\n",
       "      <td>The Discovery Channel television network has s...</td>\n",
       "    </tr>\n",
       "    <tr>\n",
       "      <th>3</th>\n",
       "      <td>2011-01-01</td>\n",
       "      <td>Ten die in South Africa township bar stampede</td>\n",
       "      <td>Ten people were killed in a bar stampede in a ...</td>\n",
       "    </tr>\n",
       "    <tr>\n",
       "      <th>4</th>\n",
       "      <td>2011-01-01</td>\n",
       "      <td>Three hurt in Croydon New Year's Eve shooting</td>\n",
       "      <td>Three people have been injured during a shooti...</td>\n",
       "    </tr>\n",
       "    <tr>\n",
       "      <th>...</th>\n",
       "      <td>...</td>\n",
       "      <td>...</td>\n",
       "      <td>...</td>\n",
       "    </tr>\n",
       "    <tr>\n",
       "      <th>954744</th>\n",
       "      <td>2022-12-21</td>\n",
       "      <td>Manston migrant centre: What were the problems?</td>\n",
       "      <td>The Home Office said in late-November that the...</td>\n",
       "    </tr>\n",
       "    <tr>\n",
       "      <th>954745</th>\n",
       "      <td>2022-12-22</td>\n",
       "      <td>Energy bills: What do I do if I can't afford t...</td>\n",
       "      <td>Energy prices have soared, prompting governmen...</td>\n",
       "    </tr>\n",
       "    <tr>\n",
       "      <th>954746</th>\n",
       "      <td>2022-12-22</td>\n",
       "      <td>Ukraine weapons: What military equipment is th...</td>\n",
       "      <td>Ukrainian president Volodymyr Zelensky has tha...</td>\n",
       "    </tr>\n",
       "    <tr>\n",
       "      <th>954747</th>\n",
       "      <td>2022-12-22</td>\n",
       "      <td>Does the average nurse earn £34,000 a year?</td>\n",
       "      <td>Nurses in England, Wales and Northern Ireland ...</td>\n",
       "    </tr>\n",
       "    <tr>\n",
       "      <th>954748</th>\n",
       "      <td>2022-12-22</td>\n",
       "      <td>Cwmbran death: Family's tribute to Susan Moore</td>\n",
       "      <td>The family of a woman who died after being fou...</td>\n",
       "    </tr>\n",
       "  </tbody>\n",
       "</table>\n",
       "<p>954749 rows × 3 columns</p>\n",
       "</div>"
      ],
      "text/plain": [
       "             date                                              title  \\\n",
       "0      2011-01-01                     Australia floods: Your stories   \n",
       "1      2011-01-01  Southampton hospital warns over influx of flu ...   \n",
       "2      2011-01-01  Discovery cancels Michael Jackson autopsy TV show   \n",
       "3      2011-01-01      Ten die in South Africa township bar stampede   \n",
       "4      2011-01-01      Three hurt in Croydon New Year's Eve shooting   \n",
       "...           ...                                                ...   \n",
       "954744 2022-12-21    Manston migrant centre: What were the problems?   \n",
       "954745 2022-12-22  Energy bills: What do I do if I can't afford t...   \n",
       "954746 2022-12-22  Ukraine weapons: What military equipment is th...   \n",
       "954747 2022-12-22        Does the average nurse earn £34,000 a year?   \n",
       "954748 2022-12-22     Cwmbran death: Family's tribute to Susan Moore   \n",
       "\n",
       "                                                     text  \n",
       "0       A senior official in Australia has described t...  \n",
       "1       Health chiefs in Hampshire have revealed they ...  \n",
       "2       The Discovery Channel television network has s...  \n",
       "3       Ten people were killed in a bar stampede in a ...  \n",
       "4       Three people have been injured during a shooti...  \n",
       "...                                                   ...  \n",
       "954744  The Home Office said in late-November that the...  \n",
       "954745  Energy prices have soared, prompting governmen...  \n",
       "954746  Ukrainian president Volodymyr Zelensky has tha...  \n",
       "954747  Nurses in England, Wales and Northern Ireland ...  \n",
       "954748  The family of a woman who died after being fou...  \n",
       "\n",
       "[954749 rows x 3 columns]"
      ]
     },
     "execution_count": 4,
     "metadata": {},
     "output_type": "execute_result"
    }
   ],
   "source": [
    "df_news_processed = df_news_processed[df_news_processed['text'] != ''].reset_index(drop=True)\n",
    "df_news_processed = df_news_processed[df_news_processed['date'].between( \\\n",
    "    '2011-01-01', '2022-12-31', inclusive='both')].reset_index(drop=True)\n",
    "df_news_processed = df_news_processed.sort_values(by='date', ignore_index=True)\n",
    "df_news_processed"
   ]
  },
  {
   "cell_type": "code",
   "execution_count": 7,
   "id": "67119b34",
   "metadata": {},
   "outputs": [],
   "source": [
    "df_202210 = df_news_processed[df_news_processed['date'].between( \\\n",
    "    '2022-10-01', '2022-10-31', inclusive='both')].reset_index(drop=True)"
   ]
  },
  {
   "cell_type": "code",
   "execution_count": 9,
   "id": "1bcae107",
   "metadata": {},
   "outputs": [],
   "source": [
    "save_fpath = '../../data/processed/news/bbc_20221001-20221031.xlsx'\n",
    "df_202210.to_excel(save_fpath)"
   ]
  },
  {
   "cell_type": "code",
   "execution_count": null,
   "id": "6e9f177a",
   "metadata": {},
   "outputs": [
    {
     "name": "stderr",
     "output_type": "stream",
     "text": [
      "Exception ignored in: <function ZipFile.__del__ at 0x7f51ee3f6160>\n",
      "Traceback (most recent call last):\n",
      "  File \"/opt/conda/lib/python3.9/zipfile.py\", line 1816, in __del__\n",
      "    self.close()\n",
      "  File \"/opt/conda/lib/python3.9/zipfile.py\", line 1833, in close\n",
      "    self.fp.seek(self.start_dir)\n",
      "ValueError: seek of closed file\n"
     ]
    }
   ],
   "source": [
    "save_fpath = '../../data/processed/news/bbc_20110101-20221231.xlsx'\n",
    "with pd.ExcelWriter(save_fpath, engine='xlsxwriter') as writer:\n",
    "    writer.book.use_zip64()\n",
    "    df_news_processed.to_excel(writer, index=False)\n",
    "    writer.save()"
   ]
  },
  {
   "cell_type": "code",
   "execution_count": null,
   "id": "868d1b22",
   "metadata": {},
   "outputs": [],
   "source": [
    "df_news_processed.sample()"
   ]
  },
  {
   "cell_type": "code",
   "execution_count": 5,
   "id": "7c3512c3",
   "metadata": {},
   "outputs": [
    {
     "data": {
      "text/html": [
       "<div>\n",
       "<style scoped>\n",
       "    .dataframe tbody tr th:only-of-type {\n",
       "        vertical-align: middle;\n",
       "    }\n",
       "\n",
       "    .dataframe tbody tr th {\n",
       "        vertical-align: top;\n",
       "    }\n",
       "\n",
       "    .dataframe thead th {\n",
       "        text-align: right;\n",
       "    }\n",
       "</style>\n",
       "<table border=\"1\" class=\"dataframe\">\n",
       "  <thead>\n",
       "    <tr style=\"text-align: right;\">\n",
       "      <th></th>\n",
       "      <th>Number of Publications</th>\n",
       "    </tr>\n",
       "    <tr>\n",
       "      <th>year</th>\n",
       "      <th></th>\n",
       "    </tr>\n",
       "  </thead>\n",
       "  <tbody>\n",
       "    <tr>\n",
       "      <th>2009</th>\n",
       "      <td>519</td>\n",
       "    </tr>\n",
       "    <tr>\n",
       "      <th>2010</th>\n",
       "      <td>70832</td>\n",
       "    </tr>\n",
       "    <tr>\n",
       "      <th>2011</th>\n",
       "      <td>131902</td>\n",
       "    </tr>\n",
       "    <tr>\n",
       "      <th>2012</th>\n",
       "      <td>134212</td>\n",
       "    </tr>\n",
       "    <tr>\n",
       "      <th>2013</th>\n",
       "      <td>135070</td>\n",
       "    </tr>\n",
       "    <tr>\n",
       "      <th>2014</th>\n",
       "      <td>126883</td>\n",
       "    </tr>\n",
       "    <tr>\n",
       "      <th>2015</th>\n",
       "      <td>116080</td>\n",
       "    </tr>\n",
       "    <tr>\n",
       "      <th>2016</th>\n",
       "      <td>107979</td>\n",
       "    </tr>\n",
       "    <tr>\n",
       "      <th>2017</th>\n",
       "      <td>98381</td>\n",
       "    </tr>\n",
       "    <tr>\n",
       "      <th>2018</th>\n",
       "      <td>88855</td>\n",
       "    </tr>\n",
       "    <tr>\n",
       "      <th>2019</th>\n",
       "      <td>80465</td>\n",
       "    </tr>\n",
       "    <tr>\n",
       "      <th>2020</th>\n",
       "      <td>71580</td>\n",
       "    </tr>\n",
       "    <tr>\n",
       "      <th>2021</th>\n",
       "      <td>72146</td>\n",
       "    </tr>\n",
       "    <tr>\n",
       "      <th>2022</th>\n",
       "      <td>70522</td>\n",
       "    </tr>\n",
       "  </tbody>\n",
       "</table>\n",
       "</div>"
      ],
      "text/plain": [
       "      Number of Publications\n",
       "year                        \n",
       "2009                     519\n",
       "2010                   70832\n",
       "2011                  131902\n",
       "2012                  134212\n",
       "2013                  135070\n",
       "2014                  126883\n",
       "2015                  116080\n",
       "2016                  107979\n",
       "2017                   98381\n",
       "2018                   88855\n",
       "2019                   80465\n",
       "2020                   71580\n",
       "2021                   72146\n",
       "2022                   70522"
      ]
     },
     "execution_count": 5,
     "metadata": {},
     "output_type": "execute_result"
    }
   ],
   "source": [
    "df_graph = df_news.groupby(by=df_news['date'].dt.year).count()\n",
    "df_graph.index.name = 'year'\n",
    "df_graph['Number of Publications'] = df_graph['title']\n",
    "df_graph = df_graph.drop(['date', 'title', 'text'], axis=1)\n",
    "df_graph"
   ]
  },
  {
   "cell_type": "code",
   "execution_count": 7,
   "id": "1363b8e1",
   "metadata": {},
   "outputs": [
    {
     "data": {
      "text/plain": [
       "[Text(0, 0, '519'),\n",
       " Text(0, 0, '70832'),\n",
       " Text(0, 0, '131902'),\n",
       " Text(0, 0, '134212'),\n",
       " Text(0, 0, '135070'),\n",
       " Text(0, 0, '126883'),\n",
       " Text(0, 0, '116080'),\n",
       " Text(0, 0, '107979'),\n",
       " Text(0, 0, '98381'),\n",
       " Text(0, 0, '88855'),\n",
       " Text(0, 0, '80465'),\n",
       " Text(0, 0, '71580'),\n",
       " Text(0, 0, '72146'),\n",
       " Text(0, 0, '70522')]"
      ]
     },
     "execution_count": 7,
     "metadata": {},
     "output_type": "execute_result"
    },
    {
     "data": {
      "image/png": "[encoded data removed]",
      "text/plain": [
       "<Figure size 1080x720 with 1 Axes>"
      ]
     },
     "metadata": {
      "needs_background": "light"
     },
     "output_type": "display_data"
    }
   ],
   "source": [
    "bar_chart = df_graph.plot(figsize=(15,10), kind='bar', rot=0, fontsize=15, legend=False)\n",
    "bar_chart.set_title('Number of News Articles by Year (BBC)', fontsize=15)\n",
    "bar_chart.set_xlabel('Year', fontsize=15)\n",
    "bar_chart.set_ylabel('Count', fontsize=15)\n",
    "bar_chart.bar_label(bar_chart.containers[0], fontsize=15)"
   ]
  },
  {
   "cell_type": "code",
   "execution_count": 6,
   "id": "97c2a509",
   "metadata": {},
   "outputs": [],
   "source": [
    "df_news_processed = df_news[df_news['date'].between('2010-01-01', '2010-12-31', inclusive='both')]"
   ]
  },
  {
   "cell_type": "code",
   "execution_count": 8,
   "id": "cc35d506",
   "metadata": {},
   "outputs": [
    {
     "data": {
      "text/html": [
       "<div>\n",
       "<style scoped>\n",
       "    .dataframe tbody tr th:only-of-type {\n",
       "        vertical-align: middle;\n",
       "    }\n",
       "\n",
       "    .dataframe tbody tr th {\n",
       "        vertical-align: top;\n",
       "    }\n",
       "\n",
       "    .dataframe thead th {\n",
       "        text-align: right;\n",
       "    }\n",
       "</style>\n",
       "<table border=\"1\" class=\"dataframe\">\n",
       "  <thead>\n",
       "    <tr style=\"text-align: right;\">\n",
       "      <th></th>\n",
       "      <th>Number of Publications</th>\n",
       "    </tr>\n",
       "    <tr>\n",
       "      <th>month</th>\n",
       "      <th></th>\n",
       "    </tr>\n",
       "  </thead>\n",
       "  <tbody>\n",
       "    <tr>\n",
       "      <th>1</th>\n",
       "      <td>80</td>\n",
       "    </tr>\n",
       "    <tr>\n",
       "      <th>2</th>\n",
       "      <td>100</td>\n",
       "    </tr>\n",
       "    <tr>\n",
       "      <th>3</th>\n",
       "      <td>95</td>\n",
       "    </tr>\n",
       "    <tr>\n",
       "      <th>4</th>\n",
       "      <td>186</td>\n",
       "    </tr>\n",
       "    <tr>\n",
       "      <th>5</th>\n",
       "      <td>2455</td>\n",
       "    </tr>\n",
       "    <tr>\n",
       "      <th>6</th>\n",
       "      <td>8423</td>\n",
       "    </tr>\n",
       "    <tr>\n",
       "      <th>7</th>\n",
       "      <td>9450</td>\n",
       "    </tr>\n",
       "    <tr>\n",
       "      <th>8</th>\n",
       "      <td>9704</td>\n",
       "    </tr>\n",
       "    <tr>\n",
       "      <th>9</th>\n",
       "      <td>10322</td>\n",
       "    </tr>\n",
       "    <tr>\n",
       "      <th>10</th>\n",
       "      <td>10407</td>\n",
       "    </tr>\n",
       "    <tr>\n",
       "      <th>11</th>\n",
       "      <td>10063</td>\n",
       "    </tr>\n",
       "    <tr>\n",
       "      <th>12</th>\n",
       "      <td>9547</td>\n",
       "    </tr>\n",
       "  </tbody>\n",
       "</table>\n",
       "</div>"
      ],
      "text/plain": [
       "       Number of Publications\n",
       "month                        \n",
       "1                          80\n",
       "2                         100\n",
       "3                          95\n",
       "4                         186\n",
       "5                        2455\n",
       "6                        8423\n",
       "7                        9450\n",
       "8                        9704\n",
       "9                       10322\n",
       "10                      10407\n",
       "11                      10063\n",
       "12                       9547"
      ]
     },
     "execution_count": 8,
     "metadata": {},
     "output_type": "execute_result"
    }
   ],
   "source": [
    "df_graph = df_news_processed.groupby(by=df_news['date'].dt.month).count()\n",
    "df_graph.index.name = 'month'\n",
    "df_graph['Number of Publications'] = df_graph['title']\n",
    "df_graph = df_graph.drop(['date', 'title', 'text'], axis=1)\n",
    "df_graph"
   ]
  },
  {
   "cell_type": "code",
   "execution_count": 7,
   "id": "9666190d",
   "metadata": {},
   "outputs": [
    {
     "data": {
      "text/html": [
       "<div>\n",
       "<style scoped>\n",
       "    .dataframe tbody tr th:only-of-type {\n",
       "        vertical-align: middle;\n",
       "    }\n",
       "\n",
       "    .dataframe tbody tr th {\n",
       "        vertical-align: top;\n",
       "    }\n",
       "\n",
       "    .dataframe thead th {\n",
       "        text-align: right;\n",
       "    }\n",
       "</style>\n",
       "<table border=\"1\" class=\"dataframe\">\n",
       "  <thead>\n",
       "    <tr style=\"text-align: right;\">\n",
       "      <th></th>\n",
       "      <th>date</th>\n",
       "      <th>title</th>\n",
       "      <th>text</th>\n",
       "    </tr>\n",
       "  </thead>\n",
       "  <tbody>\n",
       "    <tr>\n",
       "      <th>36</th>\n",
       "      <td>2010-09-24</td>\n",
       "      <td>Dutch sisters fail to overturn deportation order</td>\n",
       "      <td>Two Dutch sisters jailed for trying to import ...</td>\n",
       "    </tr>\n",
       "    <tr>\n",
       "      <th>46</th>\n",
       "      <td>2010-11-08</td>\n",
       "      <td>Action to clear detergent foam from river afte...</td>\n",
       "      <td>Fire crews have been trying to stop detergent ...</td>\n",
       "    </tr>\n",
       "    <tr>\n",
       "      <th>64</th>\n",
       "      <td>2010-06-22</td>\n",
       "      <td>Police arrest known 'hooligans' during World C...</td>\n",
       "      <td>Seventeen people in the North East have been a...</td>\n",
       "    </tr>\n",
       "    <tr>\n",
       "      <th>82</th>\n",
       "      <td>2010-12-13</td>\n",
       "      <td>Peshawar bomb kills teenage boy and bus driver</td>\n",
       "      <td>A bomb blast has hit a school bus in the north...</td>\n",
       "    </tr>\n",
       "    <tr>\n",
       "      <th>94</th>\n",
       "      <td>2010-12-13</td>\n",
       "      <td>Students to protest over scrapping of EMA allo...</td>\n",
       "      <td>Students, staff and trade unions are gearing u...</td>\n",
       "    </tr>\n",
       "    <tr>\n",
       "      <th>...</th>\n",
       "      <td>...</td>\n",
       "      <td>...</td>\n",
       "      <td>...</td>\n",
       "    </tr>\n",
       "    <tr>\n",
       "      <th>1305311</th>\n",
       "      <td>2010-06-09</td>\n",
       "      <td>'Best and worst' English NHS hospital car park...</td>\n",
       "      <td>A revamp of hospital car parking is needed, co...</td>\n",
       "    </tr>\n",
       "    <tr>\n",
       "      <th>1305322</th>\n",
       "      <td>2010-11-07</td>\n",
       "      <td>Ministers defend plan to force jobless to do work</td>\n",
       "      <td>Ministers have defended their plans to force t...</td>\n",
       "    </tr>\n",
       "    <tr>\n",
       "      <th>1305328</th>\n",
       "      <td>2010-07-08</td>\n",
       "      <td>Fiesta time as Spain makes World Cup final</td>\n",
       "      <td>This was Spain's first ever World Cup semi-fin...</td>\n",
       "    </tr>\n",
       "    <tr>\n",
       "      <th>1305343</th>\n",
       "      <td>2010-11-05</td>\n",
       "      <td>Lake Vyrnwy estate bidders asked for more info...</td>\n",
       "      <td>Agents selling a 23,000-acre estate in Powys h...</td>\n",
       "    </tr>\n",
       "    <tr>\n",
       "      <th>1305368</th>\n",
       "      <td>2010-07-16</td>\n",
       "      <td>Anxious wait for spending cuts to bite</td>\n",
       "      <td></td>\n",
       "    </tr>\n",
       "  </tbody>\n",
       "</table>\n",
       "<p>70832 rows × 3 columns</p>\n",
       "</div>"
      ],
      "text/plain": [
       "              date                                              title  \\\n",
       "36      2010-09-24   Dutch sisters fail to overturn deportation order   \n",
       "46      2010-11-08  Action to clear detergent foam from river afte...   \n",
       "64      2010-06-22  Police arrest known 'hooligans' during World C...   \n",
       "82      2010-12-13     Peshawar bomb kills teenage boy and bus driver   \n",
       "94      2010-12-13  Students to protest over scrapping of EMA allo...   \n",
       "...            ...                                                ...   \n",
       "1305311 2010-06-09  'Best and worst' English NHS hospital car park...   \n",
       "1305322 2010-11-07  Ministers defend plan to force jobless to do work   \n",
       "1305328 2010-07-08         Fiesta time as Spain makes World Cup final   \n",
       "1305343 2010-11-05  Lake Vyrnwy estate bidders asked for more info...   \n",
       "1305368 2010-07-16             Anxious wait for spending cuts to bite   \n",
       "\n",
       "                                                      text  \n",
       "36       Two Dutch sisters jailed for trying to import ...  \n",
       "46       Fire crews have been trying to stop detergent ...  \n",
       "64       Seventeen people in the North East have been a...  \n",
       "82       A bomb blast has hit a school bus in the north...  \n",
       "94       Students, staff and trade unions are gearing u...  \n",
       "...                                                    ...  \n",
       "1305311  A revamp of hospital car parking is needed, co...  \n",
       "1305322  Ministers have defended their plans to force t...  \n",
       "1305328  This was Spain's first ever World Cup semi-fin...  \n",
       "1305343  Agents selling a 23,000-acre estate in Powys h...  \n",
       "1305368                                                     \n",
       "\n",
       "[70832 rows x 3 columns]"
      ]
     },
     "execution_count": 7,
     "metadata": {},
     "output_type": "execute_result"
    }
   ],
   "source": [
    "bar_chart = df_graph.plot(figsize=(15,10), kind='bar', rot=0, fontsize=15, legend=False)\n",
    "bar_chart.set_title('Number of News Articles by Year (Manila Bulletin)', fontsize=15)\n",
    "bar_chart.set_xlabel('Year', fontsize=15)\n",
    "bar_chart.set_ylabel('Count', fontsize=15)\n",
    "bar_chart.bar_label(bar_chart.containers[0], fontsize=15)"
   ]
  },
  {
   "cell_type": "code",
   "execution_count": 73,
   "id": "faa78ecf",
   "metadata": {},
   "outputs": [
    {
     "ename": "TypeError",
     "evalue": "'AxesSubplot' object is not callable",
     "output_type": "error",
     "traceback": [
      "\u001b[0;31m---------------------------------------------------------------------------\u001b[0m",
      "\u001b[0;31mTypeError\u001b[0m                                 Traceback (most recent call last)",
      "Input \u001b[0;32mIn [73]\u001b[0m, in \u001b[0;36m<cell line: 1>\u001b[0;34m()\u001b[0m\n\u001b[0;32m----> 1\u001b[0m \u001b[43mbar_chart\u001b[49m\u001b[43m(\u001b[49m\u001b[43m)\u001b[49m\n",
      "\u001b[0;31mTypeError\u001b[0m: 'AxesSubplot' object is not callable"
     ]
    }
   ],
   "source": [
    "bar_chart"
   ]
  },
  {
   "cell_type": "code",
   "execution_count": null,
   "id": "7f49ce0f",
   "metadata": {},
   "outputs": [],
   "source": []
  },
  {
   "cell_type": "code",
   "execution_count": 10,
   "id": "b5585aaf",
   "metadata": {},
   "outputs": [
    {
     "data": {
      "text/plain": [
       "TimeGrouper(freq=<Day>, axis=0, sort=True, closed='left', label='left', how='mean', convention='e', origin='start_day')"
      ]
     },
     "execution_count": 10,
     "metadata": {},
     "output_type": "execute_result"
    }
   ],
   "source": [
    "pd.Grouper(freq='D')"
   ]
  },
  {
   "cell_type": "code",
   "execution_count": 25,
   "id": "043ee255",
   "metadata": {},
   "outputs": [
    {
     "data": {
      "text/plain": [
       "[1970, 2001, 2014, 2016, 2017, 2018, 2019, 2020, 2021, 2022]"
      ]
     },
     "execution_count": 25,
     "metadata": {},
     "output_type": "execute_result"
    }
   ],
   "source": [
    "df_news.groupby(by=df_news['date'].dt.year).count().index.tolist()"
   ]
  },
  {
   "cell_type": "code",
   "execution_count": 27,
   "id": "12fa3957",
   "metadata": {},
   "outputs": [
    {
     "data": {
      "text/plain": [
       "[151, 23, 8, 34, 27, 57743, 60417, 74760, 75513, 42186]"
      ]
     },
     "execution_count": 27,
     "metadata": {},
     "output_type": "execute_result"
    }
   ],
   "source": [
    "df_news.groupby(by=df_news['date'].dt.year).count()['title'].tolist()"
   ]
  },
  {
   "cell_type": "code",
   "execution_count": 26,
   "id": "d01cca15",
   "metadata": {},
   "outputs": [
    {
     "data": {
      "image/png": "[encoded data removed]",
      "text/plain": [
       "<Figure size 1080x720 with 1 Axes>"
      ]
     },
     "metadata": {
      "needs_background": "light"
     },
     "output_type": "display_data"
    }
   ],
   "source": [
    "import matplotlib.pyplot as plt\n",
    "plt.figure(figsize=(15, 10))\n",
    "plt.bar(x=df_news.groupby(by=df_news['date'].dt.year).count().index.tolist(),\n",
    "        height=df_news.groupby(by=df_news['date'].dt.year).count()['title'].tolist())\n",
    "plt.show()\n",
    "plt.close()"
   ]
  },
  {
   "cell_type": "code",
   "execution_count": 16,
   "id": "cc902eab",
   "metadata": {},
   "outputs": [
    {
     "data": {
      "text/plain": [
       "<AxesSubplot:xlabel='date'>"
      ]
     },
     "execution_count": 16,
     "metadata": {},
     "output_type": "execute_result"
    },
    {
     "data": {
      "image/png": "[encoded data removed]",
      "text/plain": [
       "<Figure size 432x288 with 1 Axes>"
      ]
     },
     "metadata": {
      "needs_background": "light"
     },
     "output_type": "display_data"
    }
   ],
   "source": [
    "df_news.groupby(by=df_news['date'].dt.year).count().plot.bar"
   ]
  },
  {
   "cell_type": "code",
   "execution_count": 4,
   "id": "a8dac42a",
   "metadata": {},
   "outputs": [
    {
     "ename": "TypeError",
     "evalue": "Only valid with DatetimeIndex, TimedeltaIndex or PeriodIndex, but got an instance of 'Int64Index'",
     "output_type": "error",
     "traceback": [
      "\u001b[0;31m---------------------------------------------------------------------------\u001b[0m",
      "\u001b[0;31mTypeError\u001b[0m                                 Traceback (most recent call last)",
      "Input \u001b[0;32mIn [4]\u001b[0m, in \u001b[0;36m<cell line: 1>\u001b[0;34m()\u001b[0m\n\u001b[0;32m----> 1\u001b[0m \u001b[43mdf_news\u001b[49m\u001b[43m[\u001b[49m\u001b[38;5;124;43m'\u001b[39;49m\u001b[38;5;124;43mdate\u001b[39;49m\u001b[38;5;124;43m'\u001b[39;49m\u001b[43m]\u001b[49m\u001b[38;5;241;43m.\u001b[39;49m\u001b[43mgroupby\u001b[49m\u001b[43m(\u001b[49m\u001b[43mby\u001b[49m\u001b[38;5;241;43m=\u001b[39;49m\u001b[43mpd\u001b[49m\u001b[38;5;241;43m.\u001b[39;49m\u001b[43mGrouper\u001b[49m\u001b[43m(\u001b[49m\u001b[43mfreq\u001b[49m\u001b[38;5;241;43m=\u001b[39;49m\u001b[38;5;124;43m'\u001b[39;49m\u001b[38;5;124;43mD\u001b[39;49m\u001b[38;5;124;43m'\u001b[39;49m\u001b[43m)\u001b[49m\u001b[43m)\u001b[49m\n",
      "File \u001b[0;32m/opt/conda/lib/python3.9/site-packages/pandas/core/series.py:1922\u001b[0m, in \u001b[0;36mSeries.groupby\u001b[0;34m(self, by, axis, level, as_index, sort, group_keys, squeeze, observed, dropna)\u001b[0m\n\u001b[1;32m   1918\u001b[0m axis \u001b[38;5;241m=\u001b[39m \u001b[38;5;28mself\u001b[39m\u001b[38;5;241m.\u001b[39m_get_axis_number(axis)\n\u001b[1;32m   1920\u001b[0m \u001b[38;5;66;03m# error: Argument \"squeeze\" to \"SeriesGroupBy\" has incompatible type\u001b[39;00m\n\u001b[1;32m   1921\u001b[0m \u001b[38;5;66;03m# \"Union[bool, NoDefault]\"; expected \"bool\"\u001b[39;00m\n\u001b[0;32m-> 1922\u001b[0m \u001b[38;5;28;01mreturn\u001b[39;00m \u001b[43mSeriesGroupBy\u001b[49m\u001b[43m(\u001b[49m\n\u001b[1;32m   1923\u001b[0m \u001b[43m    \u001b[49m\u001b[43mobj\u001b[49m\u001b[38;5;241;43m=\u001b[39;49m\u001b[38;5;28;43mself\u001b[39;49m\u001b[43m,\u001b[49m\n\u001b[1;32m   1924\u001b[0m \u001b[43m    \u001b[49m\u001b[43mkeys\u001b[49m\u001b[38;5;241;43m=\u001b[39;49m\u001b[43mby\u001b[49m\u001b[43m,\u001b[49m\n\u001b[1;32m   1925\u001b[0m \u001b[43m    \u001b[49m\u001b[43maxis\u001b[49m\u001b[38;5;241;43m=\u001b[39;49m\u001b[43maxis\u001b[49m\u001b[43m,\u001b[49m\n\u001b[1;32m   1926\u001b[0m \u001b[43m    \u001b[49m\u001b[43mlevel\u001b[49m\u001b[38;5;241;43m=\u001b[39;49m\u001b[43mlevel\u001b[49m\u001b[43m,\u001b[49m\n\u001b[1;32m   1927\u001b[0m \u001b[43m    \u001b[49m\u001b[43mas_index\u001b[49m\u001b[38;5;241;43m=\u001b[39;49m\u001b[43mas_index\u001b[49m\u001b[43m,\u001b[49m\n\u001b[1;32m   1928\u001b[0m \u001b[43m    \u001b[49m\u001b[43msort\u001b[49m\u001b[38;5;241;43m=\u001b[39;49m\u001b[43msort\u001b[49m\u001b[43m,\u001b[49m\n\u001b[1;32m   1929\u001b[0m \u001b[43m    \u001b[49m\u001b[43mgroup_keys\u001b[49m\u001b[38;5;241;43m=\u001b[39;49m\u001b[43mgroup_keys\u001b[49m\u001b[43m,\u001b[49m\n\u001b[1;32m   1930\u001b[0m \u001b[43m    \u001b[49m\u001b[43msqueeze\u001b[49m\u001b[38;5;241;43m=\u001b[39;49m\u001b[43msqueeze\u001b[49m\u001b[43m,\u001b[49m\u001b[43m  \u001b[49m\u001b[38;5;66;43;03m# type: ignore[arg-type]\u001b[39;49;00m\n\u001b[1;32m   1931\u001b[0m \u001b[43m    \u001b[49m\u001b[43mobserved\u001b[49m\u001b[38;5;241;43m=\u001b[39;49m\u001b[43mobserved\u001b[49m\u001b[43m,\u001b[49m\n\u001b[1;32m   1932\u001b[0m \u001b[43m    \u001b[49m\u001b[43mdropna\u001b[49m\u001b[38;5;241;43m=\u001b[39;49m\u001b[43mdropna\u001b[49m\u001b[43m,\u001b[49m\n\u001b[1;32m   1933\u001b[0m \u001b[43m\u001b[49m\u001b[43m)\u001b[49m\n",
      "File \u001b[0;32m/opt/conda/lib/python3.9/site-packages/pandas/core/groupby/groupby.py:882\u001b[0m, in \u001b[0;36mGroupBy.__init__\u001b[0;34m(self, obj, keys, axis, level, grouper, exclusions, selection, as_index, sort, group_keys, squeeze, observed, mutated, dropna)\u001b[0m\n\u001b[1;32m    879\u001b[0m \u001b[38;5;28;01mif\u001b[39;00m grouper \u001b[38;5;129;01mis\u001b[39;00m \u001b[38;5;28;01mNone\u001b[39;00m:\n\u001b[1;32m    880\u001b[0m     \u001b[38;5;28;01mfrom\u001b[39;00m \u001b[38;5;21;01mpandas\u001b[39;00m\u001b[38;5;21;01m.\u001b[39;00m\u001b[38;5;21;01mcore\u001b[39;00m\u001b[38;5;21;01m.\u001b[39;00m\u001b[38;5;21;01mgroupby\u001b[39;00m\u001b[38;5;21;01m.\u001b[39;00m\u001b[38;5;21;01mgrouper\u001b[39;00m \u001b[38;5;28;01mimport\u001b[39;00m get_grouper\n\u001b[0;32m--> 882\u001b[0m     grouper, exclusions, obj \u001b[38;5;241m=\u001b[39m \u001b[43mget_grouper\u001b[49m\u001b[43m(\u001b[49m\n\u001b[1;32m    883\u001b[0m \u001b[43m        \u001b[49m\u001b[43mobj\u001b[49m\u001b[43m,\u001b[49m\n\u001b[1;32m    884\u001b[0m \u001b[43m        \u001b[49m\u001b[43mkeys\u001b[49m\u001b[43m,\u001b[49m\n\u001b[1;32m    885\u001b[0m \u001b[43m        \u001b[49m\u001b[43maxis\u001b[49m\u001b[38;5;241;43m=\u001b[39;49m\u001b[43maxis\u001b[49m\u001b[43m,\u001b[49m\n\u001b[1;32m    886\u001b[0m \u001b[43m        \u001b[49m\u001b[43mlevel\u001b[49m\u001b[38;5;241;43m=\u001b[39;49m\u001b[43mlevel\u001b[49m\u001b[43m,\u001b[49m\n\u001b[1;32m    887\u001b[0m \u001b[43m        \u001b[49m\u001b[43msort\u001b[49m\u001b[38;5;241;43m=\u001b[39;49m\u001b[43msort\u001b[49m\u001b[43m,\u001b[49m\n\u001b[1;32m    888\u001b[0m \u001b[43m        \u001b[49m\u001b[43mobserved\u001b[49m\u001b[38;5;241;43m=\u001b[39;49m\u001b[43mobserved\u001b[49m\u001b[43m,\u001b[49m\n\u001b[1;32m    889\u001b[0m \u001b[43m        \u001b[49m\u001b[43mmutated\u001b[49m\u001b[38;5;241;43m=\u001b[39;49m\u001b[38;5;28;43mself\u001b[39;49m\u001b[38;5;241;43m.\u001b[39;49m\u001b[43mmutated\u001b[49m\u001b[43m,\u001b[49m\n\u001b[1;32m    890\u001b[0m \u001b[43m        \u001b[49m\u001b[43mdropna\u001b[49m\u001b[38;5;241;43m=\u001b[39;49m\u001b[38;5;28;43mself\u001b[39;49m\u001b[38;5;241;43m.\u001b[39;49m\u001b[43mdropna\u001b[49m\u001b[43m,\u001b[49m\n\u001b[1;32m    891\u001b[0m \u001b[43m    \u001b[49m\u001b[43m)\u001b[49m\n\u001b[1;32m    893\u001b[0m \u001b[38;5;28mself\u001b[39m\u001b[38;5;241m.\u001b[39mobj \u001b[38;5;241m=\u001b[39m obj\n\u001b[1;32m    894\u001b[0m \u001b[38;5;28mself\u001b[39m\u001b[38;5;241m.\u001b[39maxis \u001b[38;5;241m=\u001b[39m obj\u001b[38;5;241m.\u001b[39m_get_axis_number(axis)\n",
      "File \u001b[0;32m/opt/conda/lib/python3.9/site-packages/pandas/core/groupby/grouper.py:784\u001b[0m, in \u001b[0;36mget_grouper\u001b[0;34m(obj, key, axis, level, sort, observed, mutated, validate, dropna)\u001b[0m\n\u001b[1;32m    782\u001b[0m \u001b[38;5;66;03m# a passed-in Grouper, directly convert\u001b[39;00m\n\u001b[1;32m    783\u001b[0m \u001b[38;5;28;01mif\u001b[39;00m \u001b[38;5;28misinstance\u001b[39m(key, Grouper):\n\u001b[0;32m--> 784\u001b[0m     binner, grouper, obj \u001b[38;5;241m=\u001b[39m \u001b[43mkey\u001b[49m\u001b[38;5;241;43m.\u001b[39;49m\u001b[43m_get_grouper\u001b[49m\u001b[43m(\u001b[49m\u001b[43mobj\u001b[49m\u001b[43m,\u001b[49m\u001b[43m \u001b[49m\u001b[43mvalidate\u001b[49m\u001b[38;5;241;43m=\u001b[39;49m\u001b[38;5;28;43;01mFalse\u001b[39;49;00m\u001b[43m)\u001b[49m\n\u001b[1;32m    785\u001b[0m     \u001b[38;5;28;01mif\u001b[39;00m key\u001b[38;5;241m.\u001b[39mkey \u001b[38;5;129;01mis\u001b[39;00m \u001b[38;5;28;01mNone\u001b[39;00m:\n\u001b[1;32m    786\u001b[0m         \u001b[38;5;28;01mreturn\u001b[39;00m grouper, \u001b[38;5;28mfrozenset\u001b[39m(), obj\n",
      "File \u001b[0;32m/opt/conda/lib/python3.9/site-packages/pandas/core/resample.py:1607\u001b[0m, in \u001b[0;36mTimeGrouper._get_grouper\u001b[0;34m(self, obj, validate)\u001b[0m\n\u001b[1;32m   1605\u001b[0m \u001b[38;5;28;01mdef\u001b[39;00m \u001b[38;5;21m_get_grouper\u001b[39m(\u001b[38;5;28mself\u001b[39m, obj, validate: \u001b[38;5;28mbool\u001b[39m \u001b[38;5;241m=\u001b[39m \u001b[38;5;28;01mTrue\u001b[39;00m):\n\u001b[1;32m   1606\u001b[0m     \u001b[38;5;66;03m# create the resampler and return our binner\u001b[39;00m\n\u001b[0;32m-> 1607\u001b[0m     r \u001b[38;5;241m=\u001b[39m \u001b[38;5;28;43mself\u001b[39;49m\u001b[38;5;241;43m.\u001b[39;49m\u001b[43m_get_resampler\u001b[49m\u001b[43m(\u001b[49m\u001b[43mobj\u001b[49m\u001b[43m)\u001b[49m\n\u001b[1;32m   1608\u001b[0m     \u001b[38;5;28;01mreturn\u001b[39;00m r\u001b[38;5;241m.\u001b[39mbinner, r\u001b[38;5;241m.\u001b[39mgrouper, r\u001b[38;5;241m.\u001b[39mobj\n",
      "File \u001b[0;32m/opt/conda/lib/python3.9/site-packages/pandas/core/resample.py:1599\u001b[0m, in \u001b[0;36mTimeGrouper._get_resampler\u001b[0;34m(self, obj, kind)\u001b[0m\n\u001b[1;32m   1596\u001b[0m \u001b[38;5;28;01melif\u001b[39;00m \u001b[38;5;28misinstance\u001b[39m(ax, TimedeltaIndex):\n\u001b[1;32m   1597\u001b[0m     \u001b[38;5;28;01mreturn\u001b[39;00m TimedeltaIndexResampler(obj, groupby\u001b[38;5;241m=\u001b[39m\u001b[38;5;28mself\u001b[39m, axis\u001b[38;5;241m=\u001b[39m\u001b[38;5;28mself\u001b[39m\u001b[38;5;241m.\u001b[39maxis)\n\u001b[0;32m-> 1599\u001b[0m \u001b[38;5;28;01mraise\u001b[39;00m \u001b[38;5;167;01mTypeError\u001b[39;00m(\n\u001b[1;32m   1600\u001b[0m     \u001b[38;5;124m\"\u001b[39m\u001b[38;5;124mOnly valid with DatetimeIndex, \u001b[39m\u001b[38;5;124m\"\u001b[39m\n\u001b[1;32m   1601\u001b[0m     \u001b[38;5;124m\"\u001b[39m\u001b[38;5;124mTimedeltaIndex or PeriodIndex, \u001b[39m\u001b[38;5;124m\"\u001b[39m\n\u001b[1;32m   1602\u001b[0m     \u001b[38;5;124mf\u001b[39m\u001b[38;5;124m\"\u001b[39m\u001b[38;5;124mbut got an instance of \u001b[39m\u001b[38;5;124m'\u001b[39m\u001b[38;5;132;01m{\u001b[39;00m\u001b[38;5;28mtype\u001b[39m(ax)\u001b[38;5;241m.\u001b[39m\u001b[38;5;18m__name__\u001b[39m\u001b[38;5;132;01m}\u001b[39;00m\u001b[38;5;124m'\u001b[39m\u001b[38;5;124m\"\u001b[39m\n\u001b[1;32m   1603\u001b[0m )\n",
      "\u001b[0;31mTypeError\u001b[0m: Only valid with DatetimeIndex, TimedeltaIndex or PeriodIndex, but got an instance of 'Int64Index'"
     ]
    }
   ],
   "source": [
    "df_news['date'].groupby(by=pd.Grouper(freq='D'))"
   ]
  },
  {
   "cell_type": "code",
   "execution_count": null,
   "id": "79d530f1",
   "metadata": {},
   "outputs": [],
   "source": []
  },
  {
   "cell_type": "code",
   "execution_count": 13,
   "id": "3ccf3cf7",
   "metadata": {},
   "outputs": [],
   "source": [
    "df_news_processed = df_news[df_news['date'].between('2011-01-01', '2022-12-31', inclusive='both')]\n",
    "df_news_processed = df_news_processed.sort_values(by='date', ignore_index=True)\n",
    "df_news_processed"
   ]
  },
  {
   "cell_type": "code",
   "execution_count": 15,
   "id": "94481717",
   "metadata": {},
   "outputs": [],
   "source": [
    "save_fpath = '../../data/processed/mb/mb_20180101-20220826.xlsx'\n",
    "df_news_processed.to_excel(save_fpath, index=False)"
   ]
  }
 ],
 "metadata": {
  "kernelspec": {
   "display_name": "Python 3 (ipykernel)",
   "language": "python",
   "name": "python3"
  },
  "language_info": {
   "codemirror_mode": {
    "name": "ipython",
    "version": 3
   },
   "file_extension": ".py",
   "mimetype": "text/x-python",
   "name": "python",
   "nbconvert_exporter": "python",
   "pygments_lexer": "ipython3",
   "version": "3.11.5"
  }
 },
 "nbformat": 4,
 "nbformat_minor": 5
}
